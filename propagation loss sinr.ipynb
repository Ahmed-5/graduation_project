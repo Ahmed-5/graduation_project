{
  "nbformat": 4,
  "nbformat_minor": 5,
  "metadata": {
    "colab": {
      "name": "Copy of Copy of Copy of propagation loss sinr.ipynb",
      "provenance": [],
      "collapsed_sections": []
    },
    "kernelspec": {
      "name": "python3",
      "display_name": "Python 3.8.8 64-bit ('base': conda)"
    },
    "language_info": {
      "codemirror_mode": {
        "name": "ipython",
        "version": 3
      },
      "file_extension": ".py",
      "mimetype": "text/x-python",
      "name": "python",
      "nbconvert_exporter": "python",
      "pygments_lexer": "ipython3",
      "version": "3.8.8"
    },
    "interpreter": {
      "hash": "e42243f72fa198d5d7b499bc77ec7a85778f1261c8f7ca8e772194d316f1b31e"
    }
  },
  "cells": [
    {
      "cell_type": "code",
      "metadata": {
        "id": "d559492b",
        "colab": {
          "base_uri": "https://localhost:8080/"
        },
        "outputId": "1ea70efa-f7a6-43ea-d31c-1e5f029f5db4"
      },
      "source": [
        "import time\n",
        "import random\n",
        "import numpy as np\n",
        "# import cupy as cp\n",
        "import matplotlib.pyplot as plt\n",
        "from collections import namedtuple\n",
        "import torch\n",
        "import torch.nn as nn\n",
        "import torch.optim as optim\n",
        "import torch.nn.functional as F\n",
        "import torchvision.transforms as T\n",
        "\n",
        "random.seed(154012)\n",
        "np.random.seed(154012)\n",
        "torch.manual_seed(154012)"
      ],
      "id": "d559492b",
      "execution_count": null,
      "outputs": [
        {
          "output_type": "execute_result",
          "data": {
            "text/plain": [
              "<torch._C.Generator at 0x7f9d86febad0>"
            ]
          },
          "metadata": {},
          "execution_count": 1
        }
      ]
    },
    {
      "cell_type": "code",
      "metadata": {
        "id": "21eb46de",
        "colab": {
          "base_uri": "https://localhost:8080/"
        },
        "outputId": "35ea8e0b-2bcc-4b40-889d-43a7beffed6a"
      },
      "source": [
        "fc = 2.6 #2.6 GHz\n",
        "bandwidth = 1e7 #10 MHz\n",
        "temp = 40 + 273.15 # 40 celsius in kelvin\n",
        "boltz = 1.381e-23\n",
        "epsilon = 1e-7\n",
        "row_bs = 4\n",
        "col_bs = 4\n",
        "mean_dist = 600\n",
        "grid_width = mean_dist*(row_bs+1)\n",
        "grid_height = mean_dist*(col_bs+1)\n",
        "\n",
        "# if torch.cuda.is_available():\n",
        "#   blackout_choices = cp.array([\n",
        "#       [3*3600, 4*3600],\n",
        "#       [6*3600, 4*3600],\n",
        "#       [14*3600, 4*3600],\n",
        "#       [19*3600, 4*3600],\n",
        "#   ])\n",
        "#   bs_loc = cp.mgrid[mean_dist: grid_width-mean_dist:mean_dist, mean_dist: grid_height-mean_dist:mean_dist]\n",
        "#   bs_loc = bs_loc.reshape((2,-1)).T\n",
        "#   bs_loc += mean_dist//10 - cp.random.randint(0, 2*mean_dist//10, bs_loc.shape)\n",
        "\n",
        "#   bs_power = cp.array([40. for i in bs_loc])\n",
        "\n",
        "#   print(bs_loc.shape)\n",
        "\n",
        "#   bs_blackout = blackout_choices[cp.random.randint(0,3, (row_bs*col_bs))]\n",
        "\n",
        "\n",
        "# else:\n",
        "blackout_choices = np.array([\n",
        "    [3*3600, 4*3600],\n",
        "    [6*3600, 4*3600],\n",
        "    [14*3600, 4*3600],\n",
        "    [19*3600, 4*3600],\n",
        "])\n",
        "bs_loc = np.mgrid[mean_dist: grid_width:mean_dist, mean_dist: grid_height:mean_dist]\n",
        "bs_loc = bs_loc.reshape((2,-1)).T\n",
        "bs_loc += mean_dist//10 - np.random.randint(0, 2*mean_dist//10, bs_loc.shape)\n",
        "\n",
        "bs_power = np.array([40. for i in bs_loc])\n",
        "\n",
        "print(bs_loc.shape)\n",
        "\n",
        "bs_blackout = blackout_choices[np.random.randint(0,3, (row_bs*col_bs))]"
      ],
      "id": "21eb46de",
      "execution_count": null,
      "outputs": [
        {
          "output_type": "stream",
          "name": "stdout",
          "text": [
            "(16, 2)\n"
          ]
        }
      ]
    },
    {
      "cell_type": "code",
      "metadata": {
        "id": "GiH0Yg4eyzBh"
      },
      "source": [
        "# class Environment():\n",
        "#     def __init__(self, bs_loc, bs_power, bs_blackouts, max_power, min_power, n_actions, grid_width, grid_height, n_nearest):\n",
        "#         self.bs_loc = bs_loc\n",
        "#         self.bs_power = bs_power\n",
        "#         self.electricity = np.zeros_like(bs_power)\n",
        "#         self.bs_blackout_start = bs_blackouts[:,0]\n",
        "#         self.bs_blackout_end = np.sum(bs_blackouts, axis=-1)\n",
        "#         self.apply_blackouts(0)\n",
        "#         self.max_power = max_power # in watt\n",
        "#         self.min_power = min_power\n",
        "#         self.n_actions = n_actions\n",
        "#         self.grid_width = grid_width\n",
        "#         self.grid_height = grid_height\n",
        "#         self.points = np.mgrid[0:grid_width, 0:grid_height]\n",
        "#         self.points = np.stack(self.points, axis=-1)\n",
        "#         self.powers = self.power_grid(self.bs_loc, self.bs_power, self.points)\n",
        "#         self.bit_rate = self.bit_rate_from_grid()\n",
        "#         self.reward = self.get_reward()\n",
        "#         self.actions = self.watt_to_dbm(np.linspace(min_power, max_power, n_actions))\n",
        "#         self.n_nearest = min(n_nearest, bs_power.shape[0])\n",
        "#         self.n_bs = bs_power.shape[0]\n",
        "        \n",
        "        \n",
        "    \n",
        "#     def get_input_dim(self):\n",
        "#         return self.n_nearest*4 # after adding has electricity attrib 3 will be changed to 4\n",
        "    \n",
        "#     def get_output_dim(self):\n",
        "#         return self.n_actions\n",
        "    \n",
        "#     def apply_blackouts(self, time):\n",
        "#         self.electricity = (time>=self.bs_blackout_start) & (time<=self.bs_blackout_end)\n",
        "    \n",
        "#     def make_action(self, bs_index, action):\n",
        "#         state = self.get_state(bs_index) \n",
        "#         self.bs_power[bs_index] = self.actions[action]\n",
        "#         self.powers = self.power_grid(self.bs_loc, self.bs_power, self.points)\n",
        "#         self.bit_rate = self.bit_rate_from_grid()\n",
        "#         next_state = self.get_state(bs_index)\n",
        "#         reward = self.get_reward()\n",
        "#         return state, action, next_state, reward\n",
        "        \n",
        "#     def watt_to_dbm(self, watt):\n",
        "#         return 10*np.log10(1000*watt)\n",
        "\n",
        "#     def dbm_to_watt(self, dbm):\n",
        "#         return np.power(10, dbm/10)/1000\n",
        "\n",
        "#     def path_loss(self, distance, frequency=fc):\n",
        "#     #     return 36.7*np.log10(distance) + 47.7 + 26*np.log10(frequency)\n",
        "#         return 35*np.log10(distance) + 35.7\n",
        "\n",
        "#     def power_grid(self, bs_loc, bs_power, points):\n",
        "#         powers = []\n",
        "#         for loc, power in zip(bs_loc, bs_power):\n",
        "#             distance = np.linalg.norm(loc - points+epsilon, axis=-1)\n",
        "#             powers.append(power - self.path_loss(distance))\n",
        "#         return np.stack(powers, axis=-1)\n",
        "\n",
        "#     def get_bit_rate_sinr(self, signal, interference, bandwidth=bandwidth, temp=temp):\n",
        "#         return bandwidth*np.log10(1+ (signal/(interference + temp*boltz*bandwidth)))\n",
        "    \n",
        "#     def bit_rate_from_grid(self):\n",
        "#         max_power = self.dbm_to_watt(self.powers.max(axis=-1))\n",
        "#         interference_power = self.dbm_to_watt(self.powers).sum(axis=-1) - max_power\n",
        "#         return self.get_bit_rate_sinr(max_power, interference_power)\n",
        "\n",
        "#     def bit_rate_cost_function(self, b_rate):\n",
        "#         total_points = 1\n",
        "#         for i in b_rate.shape:\n",
        "#             total_points *= i\n",
        "\n",
        "#         under_1mb = b_rate<(1024**2)*8\n",
        "#         under_1mb = under_1mb.sum()\n",
        "#         min_speed = b_rate.min()/(1024*1024*8) #1MB\n",
        "#         return 10*under_1mb/total_points + 1/(min_speed+epsilon)\n",
        "\n",
        "#     def get_reward(self):\n",
        "#         constant = 10\n",
        "#         br_cost = self.bit_rate_cost_function(self.bit_rate)\n",
        "#         print(self.electricity.shape)\n",
        "#         print(self.dbm_to_watt(self.bs_power))\n",
        "#         elec_cost = np.inner(self.electricity, self.dbm_to_watt(self.bs_power))\n",
        "#         return 10 - br_cost - elec_cost\n",
        "    \n",
        "#     def get_state(self, bs_index):\n",
        "#         x,y = self.bs_loc[bs_index]\n",
        "#         powers = self.powers[np.round(x),np.round(y),:].reshape(-1)\n",
        "#         indecies = np.argsort(powers)[::-1][:self.n_nearest]\n",
        "#         bs_index_posistion = np.where(indecies == bs_index)[0]\n",
        "        \n",
        "#         if bs_index_posistion.size > 0:\n",
        "#             indecies = np.delete(indecies, bs_index_posistion)\n",
        "#             indecies = indecies[:self.n_nearest]\n",
        "#         else:\n",
        "#             indecies = indecies[:self.n_nearest-1]\n",
        "            \n",
        "#         bs_power = powers[bs_index]\n",
        "#         state = np.array([powers[bs_index], self.electricity[bs_index], 0, 0])\n",
        "#         nearest_powers = powers[np.array(indecies)]\n",
        "#         nearest_elec = self.electricity[np.array(indecies)]\n",
        "#         diff =  self.bs_loc[np.array(indecies)] - self.bs_loc[bs_index]\n",
        "#         nearest_distances = np.linalg.norm(diff, axis=-1)\n",
        "#         nearest_angles = np.arctan2(diff[:,1].reshape(-1), diff[:,0].reshape(-1))\n",
        "        \n",
        "#         return np.hstack((state, np.stack([nearest_powers, nearest_elec,\n",
        "#                                            nearest_distances, nearest_angles], axis=-1).reshape(-1)))\n",
        "    \n",
        "#     def plot_bit_rate(self):\n",
        "#         plt.contourf(self.points[:,:,0], self.points[:,:,1], self.bit_rate, 100, cmap = plt.cm.jet)\n",
        "        \n",
        "#     def plot_log_bit_rate(self):\n",
        "#         plt.contourf(self.points[:,:,0], self.points[:,:,1], self.bit_rate, 100, cmap = plt.cm.jet)\n",
        "        \n",
        "#     def plot_power_grid(self):\n",
        "#         plt.contourf(self.points[:,:,0], self.points[:,:,1], self.bit_rate, 100, cmap = plt.cm.jet)\n",
        "        \n",
        "#     def plot_log_power_grid(self):\n",
        "#         plt.contourf(self.points[:,:,0], self.points[:,:,1], self.bit_rate, 100, cmap = plt.cm.jet)"
      ],
      "id": "GiH0Yg4eyzBh",
      "execution_count": null,
      "outputs": []
    },
    {
      "cell_type": "code",
      "metadata": {
        "id": "hg_4anvUcXxP"
      },
      "source": [
        "class Environment():\n",
        "    def __init__(self, bs_loc, bs_power, bs_blackouts, max_power, min_power, n_actions, grid_width, grid_height, n_nearest):\n",
        "        self.bs_loc = bs_loc\n",
        "        self.bs_power = bs_power\n",
        "        self.electricity = np.zeros_like(bs_power) # 0 have electricity, 1 blackout\n",
        "        self.bs_blackout_start = bs_blackouts[:,0]\n",
        "        self.bs_blackout_end = np.sum(bs_blackouts, axis=-1)\n",
        "        self.apply_blackouts(0)\n",
        "        self.max_power = max_power # in watt\n",
        "        self.min_power = min_power\n",
        "        self.n_actions = n_actions\n",
        "        self.grid_width = grid_width\n",
        "        self.grid_height = grid_height\n",
        "        self.reward = self.get_reward()\n",
        "        self.actions = self.watt_to_dbm(np.linspace(min_power, max_power, n_actions))\n",
        "        self.n_nearest = min(n_nearest, bs_power.shape[0])\n",
        "        self.n_bs = bs_power.shape[0]\n",
        "        \n",
        "    def baseline_action(self, bs_index):\n",
        "        if self.electricity[bs_index]:\n",
        "            self.make_action(bs_index, self.actions[0])\n",
        "        else:\n",
        "            self.make_action(bs_index, self.actions[-1])\n",
        "\n",
        "    def get_input_dim(self):\n",
        "        return self.n_nearest*4 # after adding has electricity attrib 3 will be changed to 4\n",
        "    \n",
        "    def get_output_dim(self):\n",
        "        return self.n_actions\n",
        "    \n",
        "    def apply_blackouts(self, time):\n",
        "        self.electricity = (time>=self.bs_blackout_start) & (time<=self.bs_blackout_end)\n",
        "    \n",
        "    def make_action(self, bs_index, action):\n",
        "        state = self.get_state(bs_index) \n",
        "        self.bs_power[bs_index] = self.actions[action]\n",
        "        # print(action, \"-\", self.bs_power)\n",
        "        # self.powers = self.power_grid(self.bs_loc, self.bs_power, self.points)\n",
        "        # self.bit_rate = self.bit_rate_from_grid()\n",
        "        next_state = self.get_state(bs_index)\n",
        "        reward = self.get_reward()\n",
        "        return state, action, next_state, reward\n",
        "        \n",
        "    def watt_to_dbm(self, watt):\n",
        "        return 10*np.log10(1000*watt)\n",
        "\n",
        "    def dbm_to_watt(self, dbm):\n",
        "        return np.power(10, dbm/10)/1000\n",
        "\n",
        "    def path_loss(self, distance, frequency=fc):\n",
        "    #     return 36.7*np.log10(distance) + 47.7 + 26*np.log10(frequency)\n",
        "        return 35*np.log10(distance+1) + 35.7\n",
        "\n",
        "    def power_grid(self, bs_loc, bs_power, points):\n",
        "        powers = []\n",
        "        for loc, power in zip(bs_loc, bs_power):\n",
        "            distance = np.linalg.norm(loc - points+epsilon, axis=-1)\n",
        "            powers.append(power - self.path_loss(distance))\n",
        "        return np.stack(powers, axis=-1)\n",
        "\n",
        "    def get_bit_rate_sinr(self, signal, interference, bandwidth=bandwidth, temp=temp):\n",
        "        return bandwidth*np.log10(1+ (signal/(interference + temp*boltz*bandwidth)))\n",
        "    \n",
        "    def bit_rate_from_grid(self, powers):\n",
        "        max_power = self.dbm_to_watt(powers.max(axis=-1))\n",
        "        interference_power = self.dbm_to_watt(powers).sum(axis=-1) - max_power\n",
        "        return self.get_bit_rate_sinr(max_power, interference_power)\n",
        "\n",
        "    def bit_rate_cost_function(self, b_rate):\n",
        "        total_points = self.grid_height * self.grid_width\n",
        "\n",
        "        under_1mb = b_rate<(1024**2)*8\n",
        "        under_1mb = under_1mb.sum()\n",
        "        min_speed = b_rate.min()/(1024*1024*8) #1MB\n",
        "        return 10*under_1mb/total_points , 1/(min_speed+epsilon)\n",
        "\n",
        "    def get_reward(self):\n",
        "        constant = 10\n",
        "        br_cost = 0\n",
        "        min_cost = 0\n",
        "        for i in range(0, self.grid_width, 1000):\n",
        "            for j in range(0, self.grid_height, 1000):\n",
        "                points = np.mgrid[i:min(i+1000, grid_width), j:min(j+1000, grid_height)]\n",
        "                points = np.stack(points, axis=-1)\n",
        "                power_grid = self.power_grid(self.bs_loc, self.bs_power, points)\n",
        "                bit_rate = self.bit_rate_from_grid(power_grid)\n",
        "                percentage, min_speed_cost = self.bit_rate_cost_function(bit_rate)\n",
        "                br_cost += percentage\n",
        "                min_cost = max(min_cost, min_speed_cost)\n",
        "        # print(self.electricity.shape)\n",
        "        # print(self.dbm_to_watt(self.bs_power))\n",
        "        elec_cost = np.inner(self.electricity, self.dbm_to_watt(self.bs_power))\n",
        "        return constant - br_cost - elec_cost - min_cost\n",
        "    \n",
        "    def get_state(self, bs_index):\n",
        "        # get the base station location\n",
        "        loc = self.bs_loc[bs_index]\n",
        "\n",
        "        # get the recieved powers from each base station to the current base station\n",
        "        powers = self.power_grid(self.bs_loc, self.bs_power, loc)\n",
        "        # print(\"dbm\")\n",
        "        # print(powers)\n",
        "        powers = self.dbm_to_watt(powers)\n",
        "        # print(\"watt\")\n",
        "        # print(powers)\n",
        "\n",
        "        # choose the base stations that give the most power to this location\n",
        "        indecies = np.argsort(powers)[::-1][:self.n_nearest]\n",
        "\n",
        "        # check if this base station is one of the base stations that gives the max power\n",
        "        bs_index_posistion = np.where(indecies == bs_index)[0]\n",
        "        \n",
        "\n",
        "        # if the base station is one of them we remove it, that cause it is added later to the state\n",
        "        # we do not we this value to be duplicated in the state\n",
        "        if bs_index_posistion.size > 0:\n",
        "            indecies = np.delete(indecies, bs_index_posistion)\n",
        "            indecies = indecies[:self.n_nearest]\n",
        "        else:\n",
        "            indecies = indecies[:self.n_nearest-1]\n",
        "            \n",
        "        # get the power produce by the base station\n",
        "        bs_power = powers[bs_index]\n",
        "        self_power_norm = 1e3\n",
        "        other_power_norm = 1e13\n",
        "\n",
        "        # init state: rows represent base station \n",
        "        # in each row: recieved power, does it have electricity, distance from here, the angle\n",
        "        state = np.array([bs_power*self_power_norm, self.electricity[bs_index], 0, 0])\n",
        "        nearest_powers = other_power_norm*powers[np.array(indecies)]\n",
        "        nearest_elec = self.electricity[np.array(indecies)]\n",
        "        diff =  self.bs_loc[np.array(indecies)] - self.bs_loc[bs_index]\n",
        "        nearest_distances = np.linalg.norm(diff, axis=-1)\n",
        "        nearest_angles = np.arctan2(diff[:,1].reshape(-1), diff[:,0].reshape(-1))\n",
        "        \n",
        "        state = np.hstack((state, np.stack([nearest_powers, nearest_elec,\n",
        "                                           nearest_distances, nearest_angles], axis=-1).reshape(-1)))\n",
        "\n",
        "        # print(state)\n",
        "        return state\n",
        "    \n",
        "    def plot_bit_rate(self):\n",
        "        points = np.meshgrid(np.linspace(0, self.grid_width, 1001), np.linspace(0, self.grid_height, 1001))\n",
        "        points = np.stack(points, axis=-1)\n",
        "        power_grid = self.power_grid(self.bs_loc, self.bs_power, points)\n",
        "        bit_rate = self.bit_rate_from_grid(power_grid)\n",
        "        plt.contourf(points[:,:,0], points[:,:,1], bit_rate, 100, cmap = plt.cm.jet)\n",
        "        \n",
        "    def plot_log_bit_rate(self):\n",
        "        points = np.meshgrid(np.linspace(0, self.grid_width, 1001), np.linspace(0, self.grid_height, 1001))\n",
        "        points = np.stack(points, axis=-1)\n",
        "        power_grid = self.power_grid(self.bs_loc, self.bs_power, points)\n",
        "        bit_rate = self.bit_rate_from_grid(power_grid)\n",
        "        plt.contourf(points[:,:,0], points[:,:,1], np.log(bit_rate + epsilon), 100, cmap = plt.cm.jet)\n",
        "\n",
        "    def save_bit_rate_plot(self, index=None):\n",
        "        points = np.meshgrid(np.linspace(0, self.grid_width, 1001), np.linspace(0, self.grid_height, 1001))\n",
        "        points = np.stack(points, axis=-1)\n",
        "        power_grid = self.power_grid(self.bs_loc, self.bs_power, points)\n",
        "        bit_rate = self.bit_rate_from_grid(power_grid)\n",
        "        plt.contourf(points[:,:,0], points[:,:,1], bit_rate, 100, cmap = plt.cm.jet)\n",
        "        if not index:\n",
        "            plt.savefig('bitrate.png')\n",
        "        else:\n",
        "            name = \"bitrate_{:06d}.png\".format(index)\n",
        "            plt.savefig(name)\n",
        "        plt.contourf(points[:,:,0], points[:,:,1], np.log(bit_rate + epsilon), 100, cmap = plt.cm.jet)\n",
        "        if not index:\n",
        "            plt.savefig('log_bitrate.png')\n",
        "        else:\n",
        "            name = \"log_bitrate_{:06d}.png\".format(index)\n",
        "            plt.savefig(name)\n",
        "        \n",
        "    def plot_watt_power_grid(self, index):\n",
        "        if index < 0 or index >= self.n_bs:\n",
        "            print(\"Invalid index\")\n",
        "            return\n",
        "        points = np.meshgrid(np.linspace(0, self.grid_width, 1001), np.linspace(0, self.grid_height, 1001))\n",
        "        points = np.stack(points, axis=-1)\n",
        "        power_grid = self.power_grid(self.bs_loc, self.bs_power, points)\n",
        "        plt.contourf(points[:,:,0], points[:,:,1], self.dbm_to_watt(power_grid[:,:,index]), 100, cmap = plt.cm.jet)\n",
        "        \n",
        "    def plot_dbm_power_grid(self, index):\n",
        "        if index < 0 or index >= self.n_bs:\n",
        "            print(\"Invalid index\")\n",
        "            return\n",
        "        points = np.meshgrid(np.linspace(0, self.grid_width, 1001), np.linspace(0, self.grid_height, 1001))\n",
        "        points = np.stack(points, axis=-1)\n",
        "        power_grid = self.power_grid(self.bs_loc, self.bs_power, points)\n",
        "        plt.contourf(points[:,:,0], points[:,:,1], power_grid[:,:,index], 100, cmap = plt.cm.jet)"
      ],
      "id": "hg_4anvUcXxP",
      "execution_count": null,
      "outputs": []
    },
    {
      "cell_type": "code",
      "metadata": {
        "id": "LPsBJCYxkVWh"
      },
      "source": [
        "class EnvironmentGPU():\n",
        "    def __init__(self, bs_loc, bs_power, bs_blackouts, max_power, min_power, n_actions, grid_width, grid_height, n_nearest):\n",
        "        self.bs_loc = bs_loc\n",
        "        self.bs_power = bs_power\n",
        "        self.electricity = cp.zeros_like(bs_power) # 0 have electricity, 1 blackout\n",
        "        self.bs_blackout_start = bs_blackouts[:,0]\n",
        "        self.bs_blackout_end = cp.sum(bs_blackouts, axis=-1)\n",
        "        self.apply_blackouts(0)\n",
        "        self.max_power = max_power # in watt\n",
        "        self.min_power = min_power\n",
        "        self.n_actions = n_actions\n",
        "        self.grid_width = grid_width\n",
        "        self.grid_height = grid_height\n",
        "        self.reward = self.get_reward()\n",
        "        self.actions = self.watt_to_dbm(cp.linspace(min_power, max_power, n_actions))\n",
        "        self.n_nearest = min(n_nearest, bs_power.shape[0])\n",
        "        self.n_bs = bs_power.shape[0]\n",
        "        \n",
        "    def baseline_action(self, bs_index):\n",
        "        if self.electricity[bs_index]:\n",
        "            self.make_action(bs_index, self.actions[0])\n",
        "        else:\n",
        "            self.make_action(bs_index, self.actions[-1])\n",
        "\n",
        "    def get_icput_dim(self):\n",
        "        return self.n_nearest*4 # after adding has electricity attrib 3 will be changed to 4\n",
        "    \n",
        "    def get_output_dim(self):\n",
        "        return self.n_actions\n",
        "    \n",
        "    def apply_blackouts(self, time):\n",
        "        self.electricity = (time>=self.bs_blackout_start) & (time<=self.bs_blackout_end)\n",
        "    \n",
        "    def make_action(self, bs_index, action):\n",
        "        state = self.get_state(bs_index) \n",
        "        self.bs_power[bs_index] = self.actions[action]\n",
        "        # print(action, \"-\", self.bs_power)\n",
        "        # self.powers = self.power_grid(self.bs_loc, self.bs_power, self.points)\n",
        "        # self.bit_rate = self.bit_rate_from_grid()\n",
        "        next_state = self.get_state(bs_index)\n",
        "        reward = self.get_reward()\n",
        "        return state, action, next_state, reward\n",
        "        \n",
        "    def watt_to_dbm(self, watt):\n",
        "        return 10*cp.log10(1000*watt)\n",
        "\n",
        "    def dbm_to_watt(self, dbm):\n",
        "        return cp.power(10, dbm/10)/1000\n",
        "\n",
        "    def path_loss(self, distance, frequency=fc):\n",
        "    #     return 36.7*cp.log10(distance) + 47.7 + 26*cp.log10(frequency)\n",
        "        return 35*cp.log10(distance+1) + 35.7\n",
        "\n",
        "    def power_grid(self, bs_loc, bs_power, points):\n",
        "        powers = []\n",
        "        for loc, power in zip(bs_loc, bs_power):\n",
        "            distance = cp.linalg.norm(loc - points+epsilon, axis=-1)\n",
        "            powers.append(power - self.path_loss(distance))\n",
        "        return cp.stack(powers, axis=-1)\n",
        "\n",
        "    def get_bit_rate_sinr(self, signal, interference, bandwidth=bandwidth, temp=temp):\n",
        "        return bandwidth*cp.log10(1+ (signal/(interference + temp*boltz*bandwidth)))\n",
        "    \n",
        "    def bit_rate_from_grid(self, powers):\n",
        "        max_power = self.dbm_to_watt(powers.max(axis=-1))\n",
        "        interference_power = self.dbm_to_watt(powers).sum(axis=-1) - max_power\n",
        "        return self.get_bit_rate_sinr(max_power, interference_power)\n",
        "\n",
        "    def bit_rate_cost_function(self, b_rate):\n",
        "        total_points = self.grid_height * self.grid_width\n",
        "\n",
        "        under_1mb = b_rate<(1024**2)*8\n",
        "        under_1mb = under_1mb.sum()\n",
        "        min_speed = b_rate.min()/(1024*1024*8) #1MB\n",
        "        return 10*under_1mb/total_points , 1/(min_speed+epsilon)\n",
        "\n",
        "    def get_reward(self):\n",
        "        constant = 10\n",
        "        br_cost = 0\n",
        "        min_cost = 0\n",
        "        for i in range(0, self.grid_width, 1000):\n",
        "            for j in range(0, self.grid_height, 1000):\n",
        "                points = cp.mgrid[i:min(i+1000, grid_width), j:min(j+1000, grid_height)]\n",
        "                points = cp.stack(points, axis=-1)\n",
        "                power_grid = self.power_grid(self.bs_loc, self.bs_power, points)\n",
        "                bit_rate = self.bit_rate_from_grid(power_grid)\n",
        "                percentage, min_speed_cost = self.bit_rate_cost_function(bit_rate)\n",
        "                br_cost += percentage\n",
        "                min_cost = max(min_cost, min_speed_cost)\n",
        "        # print(self.electricity.shape)\n",
        "        # print(self.dbm_to_watt(self.bs_power))\n",
        "        elec_cost = cp.inner(self.electricity, self.dbm_to_watt(self.bs_power))\n",
        "        return constant - br_cost - elec_cost - min_cost\n",
        "    \n",
        "    def get_state(self, bs_index):\n",
        "        # get the base station location\n",
        "        loc = self.bs_loc[bs_index]\n",
        "\n",
        "        # get the recieved powers from each base station to the current base station\n",
        "        powers = self.power_grid(self.bs_loc, self.bs_power, loc)\n",
        "        powers = self.dbm_to_watt(powers)\n",
        "\n",
        "        # choose the base stations that give the most power to this location\n",
        "        indecies = cp.argsort(powers)[::-1][:self.n_nearest]\n",
        "\n",
        "        # check if this base station is one of the base stations that gives the max power\n",
        "        bs_index_posistion = cp.where(indecies == bs_index)[0]\n",
        "        \n",
        "\n",
        "        # if the base station is one of them we remove it, that cause it is added later to the state\n",
        "        # we do not we this value to be duplicated in the state\n",
        "        if bs_index_posistion.size > 0:\n",
        "            indecies = cp.delete(indecies, bs_index_posistion)\n",
        "            indecies = indecies[:self.n_nearest]\n",
        "        else:\n",
        "            indecies = indecies[:self.n_nearest-1]\n",
        "            \n",
        "        # get the power produce by the base station\n",
        "        bs_power = powers[bs_index]\n",
        "        self_power_norm = 1e3\n",
        "        other_power_norm = 1e13\n",
        "\n",
        "        # init state: rows represent base station \n",
        "        # in each row: recieved power, does it have electricity, distance from here, the angle\n",
        "        state = cp.array([bs_power*self_power_norm, self.electricity[bs_index], 0, 0])\n",
        "        nearest_powers = other_power_norm*powers[cp.array(indecies)]\n",
        "        nearest_elec = self.electricity[cp.array(indecies)]\n",
        "        diff =  self.bs_loc[cp.array(indecies)] - self.bs_loc[bs_index]\n",
        "        nearest_distances = cp.linalg.norm(diff, axis=-1)\n",
        "        nearest_angles = cp.arctan2(diff[:,1].reshape(-1), diff[:,0].reshape(-1))\n",
        "        \n",
        "        state = cp.hstack((state, cp.stack([nearest_powers, nearest_elec,\n",
        "                                           nearest_distances, nearest_angles], axis=-1).reshape(-1)))\n",
        "\n",
        "        # print(state)\n",
        "        return state\n",
        "    \n",
        "    # def plot_bit_rate(self):\n",
        "    #       points = cp.mgrid[i:min(i+1000, grid_width), j:min(j+1000, grid_height)]\n",
        "    #       points = cp.stack(points, axis=-1)\n",
        "    #       power_grid = self.power_grid(self.bs_loc, self.bs_power, points)\n",
        "    #       bit_rate = self.bit_rate_from_grid(power_grid)\n",
        "    #       plt.contourf(points[:,:,0], points[:,:,1], bit_rate, 100, cmap = plt.cm.jet)\n",
        "        \n",
        "    # def plot_log_bit_rate(self):\n",
        "    #     plt.contourf(self.points[:,:,0], self.points[:,:,1], self.bit_rate, 100, cmap = plt.cm.jet)\n",
        "        \n",
        "    # def plot_power_grid(self):\n",
        "    #     plt.contourf(self.points[:,:,0], self.points[:,:,1], self.bit_rate, 100, cmap = plt.cm.jet)\n",
        "        \n",
        "    # def plot_log_power_grid(self):\n",
        "    #     plt.contourf(self.points[:,:,0], self.points[:,:,1], self.bit_rate, 100, cmap = plt.cm.jet)"
      ],
      "id": "LPsBJCYxkVWh",
      "execution_count": null,
      "outputs": []
    },
    {
      "cell_type": "code",
      "metadata": {
        "id": "86a7311b"
      },
      "source": [
        "class DQN(nn.Module): # ready\n",
        "    def __init__(self, n_inputs, n_actions):\n",
        "        nn.Module.__init__(self)\n",
        "        self.fc1 = nn.Linear(in_features=n_inputs, out_features=32)\n",
        "        self.fc2 = nn.Linear(in_features=32, out_features=32)\n",
        "        self.out = nn.Linear(in_features=32, out_features=n_actions)\n",
        "\n",
        "    def forward(self, t):\n",
        "        t = F.relu(self.fc1(t))\n",
        "        t = F.relu(self.fc2(t))\n",
        "        t = self.out(t)\n",
        "        return t"
      ],
      "id": "86a7311b",
      "execution_count": null,
      "outputs": []
    },
    {
      "cell_type": "code",
      "metadata": {
        "id": "8a2efd98"
      },
      "source": [
        "Experience = namedtuple(\n",
        "    \"Experience\", (\"state\", \"action\", \"next_state\", \"reward\")) # ready"
      ],
      "id": "8a2efd98",
      "execution_count": null,
      "outputs": []
    },
    {
      "cell_type": "code",
      "metadata": {
        "id": "278da5c2"
      },
      "source": [
        "class ReplayMemory(): # ready\n",
        "    def __init__(self, capacity):\n",
        "        self.capacity = capacity\n",
        "        self.memory = []\n",
        "        self.push_count = 0\n",
        "\n",
        "    def push(self, experience):\n",
        "        if len(self.memory) < self.capacity:\n",
        "            self.memory.append(experience)\n",
        "        else:\n",
        "            self.memory[self.push_count % self.capacity] = experience\n",
        "        self.push_count += 1\n",
        "\n",
        "    def sample(self, batch_size):\n",
        "        return random.sample(self.memory, batch_size)\n",
        "\n",
        "    def can_provide_sample(self, batch_size):\n",
        "        return len(self.memory) >= batch_size"
      ],
      "id": "278da5c2",
      "execution_count": null,
      "outputs": []
    },
    {
      "cell_type": "code",
      "metadata": {
        "id": "5c69e5d9"
      },
      "source": [
        "class EpsilonGreedyStrategy(): # ready\n",
        "    def __init__(self, start, end, decay):\n",
        "        self.start = start\n",
        "        self.end = end\n",
        "        self.decay = decay\n",
        "\n",
        "    def get_exploration_rate(self, current_step):\n",
        "        return self.end + (self.start - self.end) * np.exp(-1. * current_step * self.decay)"
      ],
      "id": "5c69e5d9",
      "execution_count": null,
      "outputs": []
    },
    {
      "cell_type": "code",
      "metadata": {
        "id": "d11c365f"
      },
      "source": [
        "class Agent():\n",
        "    def __init__(self, strategy, num_actions):\n",
        "        self.current_step = 0\n",
        "        self.strategy = strategy\n",
        "        self.num_actions = num_actions\n",
        "\n",
        "    def select_action(self, state, policy_net):\n",
        "        rate = self.strategy.get_exploration_rate(self.current_step)\n",
        "        self.current_step += 1\n",
        "\n",
        "        if rate > random.random():\n",
        "            action = random.randrange(self.num_actions)\n",
        "            return torch.tensor([action])\n",
        "        else:\n",
        "            with torch.no_grad():\n",
        "                return policy_net(state).argmax(dim=1)"
      ],
      "id": "d11c365f",
      "execution_count": null,
      "outputs": []
    },
    {
      "cell_type": "code",
      "metadata": {
        "id": "f1943cf4"
      },
      "source": [
        "class QValues():\n",
        "    @staticmethod\n",
        "    def get_current(policy_net, states, actions):\n",
        "        return policy_net(states).gather(dim=1, index=actions.unsqueeze(-1))\n",
        "\n",
        "    @staticmethod\n",
        "    def get_next(target_net, next_states):\n",
        "        values = target_net(next_states).max(dim=1)[0].detach()\n",
        "        return values"
      ],
      "id": "f1943cf4",
      "execution_count": null,
      "outputs": []
    },
    {
      "cell_type": "code",
      "metadata": {
        "id": "8f80636d"
      },
      "source": [
        "def get_moving_avg(values, period=25):\n",
        "    values = torch.tensor(values, dtype=torch.float)\n",
        "    if len(values) >= period:\n",
        "        moving_avg = values.unfold(dimension=0, size=period, step=1).mean(\n",
        "            dim=1).flatten(start_dim=0)\n",
        "    else:\n",
        "        moving_avg = torch.zeros_like(values)\n",
        "    return moving_avg.numpy()"
      ],
      "id": "8f80636d",
      "execution_count": null,
      "outputs": []
    },
    {
      "cell_type": "code",
      "metadata": {
        "id": "c6978e03"
      },
      "source": [
        "def plot(values, moving_avg_period=25):\n",
        "    plt.figure(2)\n",
        "    plt.clf()\n",
        "    plt.title(\"Training...\")\n",
        "    plt.xlabel(\"Episode\")\n",
        "    plt.ylabel(\"Duration\")\n",
        "    plt.plot(values)\n",
        "\n",
        "    moving_avg = get_moving_avg(values, moving_avg_period)\n",
        "    plt.plot(moving_avg)\n",
        "    plt.pause(0.001)\n",
        "    print(\"Episode\", len(values), \"\\n\", moving_avg_period,\n",
        "          \"episode moving avg:\", moving_avg[-1])\n",
        "#     if is_ipython:\n",
        "#         display.clear_output(wait=True)"
      ],
      "id": "c6978e03",
      "execution_count": null,
      "outputs": []
    },
    {
      "cell_type": "code",
      "metadata": {
        "id": "2efe6f43"
      },
      "source": [
        "def extract_tensors(exps):\n",
        "    batch = Experience(*zip(*exps))\n",
        "    \n",
        "    t1 = torch.cat(batch.state)\n",
        "    t2 = torch.cat(batch.action)\n",
        "    t3 = torch.cat(batch.next_state)\n",
        "    t4 = torch.cat(batch.reward)\n",
        "\n",
        "    return (t1, t2, t3, t4)"
      ],
      "id": "2efe6f43",
      "execution_count": null,
      "outputs": []
    },
    {
      "cell_type": "code",
      "metadata": {
        "id": "4b4c6c25",
        "colab": {
          "base_uri": "https://localhost:8080/"
        },
        "outputId": "a0e91eb2-378e-4cba-c3e6-800c6458fbac"
      },
      "source": [
        "batch_size = 256\n",
        "gamma = 0.9\n",
        "eps_start = 1\n",
        "eps_end = 0.01\n",
        "eps_decay = 0.001\n",
        "target_update = 10\n",
        "memory_size = 1000\n",
        "lr = 0.001\n",
        "num_episodes = 1000\n",
        "# print(bs_power.shape)\n",
        "env = Environment(bs_loc, bs_power, bs_blackout,10, 0, 11, grid_width, grid_height, 4)\n",
        "strategy = EpsilonGreedyStrategy(eps_start, eps_end, eps_decay)\n",
        "agent = Agent(strategy, env.get_output_dim())\n",
        "memory = ReplayMemory(memory_size)"
      ],
      "id": "4b4c6c25",
      "execution_count": null,
      "outputs": [
        {
          "output_type": "stream",
          "name": "stderr",
          "text": [
            "/usr/local/lib/python3.7/dist-packages/ipykernel_launcher.py:45: RuntimeWarning: divide by zero encountered in log10\n"
          ]
        }
      ]
    },
    {
      "cell_type": "code",
      "metadata": {
        "colab": {
          "base_uri": "https://localhost:8080/",
          "height": 269
        },
        "id": "uTAgrHaPnpWr",
        "outputId": "f9c6b945-7a32-4821-e23d-c38320c7e290"
      },
      "source": [
        "env.save_bit_rate_plot()"
      ],
      "id": "uTAgrHaPnpWr",
      "execution_count": null,
      "outputs": [
        {
          "output_type": "display_data",
          "data": {
            "image/png": "[encoded data removed]",
            "text/plain": [
              "<Figure size 432x288 with 1 Axes>"
            ]
          },
          "metadata": {
            "needs_background": "light"
          }
        }
      ]
    },
    {
      "cell_type": "code",
      "metadata": {
        "colab": {
          "base_uri": "https://localhost:8080/",
          "height": 269
        },
        "id": "QlpfkG7nov5A",
        "outputId": "25f7ff78-1ff0-4dbf-845e-886b96a48137"
      },
      "source": [
        "env.save_bit_rate_plot( 1)"
      ],
      "id": "QlpfkG7nov5A",
      "execution_count": null,
      "outputs": [
        {
          "output_type": "display_data",
          "data": {
            "image/png": "[encoded data removed]",
            "text/plain": [
              "<Figure size 432x288 with 1 Axes>"
            ]
          },
          "metadata": {
            "needs_background": "light"
          }
        }
      ]
    },
    {
      "cell_type": "code",
      "metadata": {
        "colab": {
          "base_uri": "https://localhost:8080/",
          "height": 269
        },
        "id": "sUjIXsfsg96u",
        "outputId": "0b44061a-6330-4a93-9799-be1dcfed95c5"
      },
      "source": [
        "env.plot_dbm_power_grid(0)"
      ],
      "id": "sUjIXsfsg96u",
      "execution_count": null,
      "outputs": [
        {
          "output_type": "display_data",
          "data": {
            "image/png": "[encoded data removed]",
            "text/plain": [
              "<Figure size 432x288 with 1 Axes>"
            ]
          },
          "metadata": {
            "needs_background": "light"
          }
        }
      ]
    },
    {
      "cell_type": "code",
      "metadata": {
        "colab": {
          "base_uri": "https://localhost:8080/",
          "height": 269
        },
        "id": "iGBTowthi2eD",
        "outputId": "307e09de-e5a2-4fc1-d71a-f7c407ea60c4"
      },
      "source": [
        "env.plot_watt_power_grid(0)"
      ],
      "id": "iGBTowthi2eD",
      "execution_count": null,
      "outputs": [
        {
          "output_type": "display_data",
          "data": {
            "image/png": "[encoded data removed]",
            "text/plain": [
              "<Figure size 432x288 with 1 Axes>"
            ]
          },
          "metadata": {
            "needs_background": "light"
          }
        }
      ]
    },
    {
      "cell_type": "code",
      "metadata": {
        "id": "GSY7sOUfUFtJ"
      },
      "source": [
        "policy_net = DQN(env.get_input_dim(), env.get_output_dim())\n",
        "target_net = DQN(env.get_input_dim(), env.get_output_dim())\n",
        "target_net.load_state_dict(policy_net.state_dict())\n",
        "target_net.eval()\n",
        "optimizer = optim.Adam(params=policy_net.parameters(), lr=lr)"
      ],
      "id": "GSY7sOUfUFtJ",
      "execution_count": null,
      "outputs": []
    },
    {
      "cell_type": "code",
      "metadata": {
        "id": "d7637541"
      },
      "source": [
        "rewards_history = []\n",
        "for episode in range(num_episodes):\n",
        "    ep_timer = time.time()\n",
        "    print(\"\\n\\nEPISODE_{:03d}:\".format(episode+1))\n",
        "    \n",
        "    env.apply_blackouts(episode+1)\n",
        "    \n",
        "    for i in range(env.n_bs):\n",
        "        timer = time.time()\n",
        "        state = torch.tensor(env.get_state(i), dtype=torch.float).unsqueeze(0)\n",
        "\n",
        "        action = agent.select_action(state, policy_net)\n",
        "        _, action, next_state, reward = env.make_action(i, action)\n",
        "        \n",
        "        rewards_history.append(reward)\n",
        "\n",
        "        reward = torch.tensor([reward], dtype=torch.float)\n",
        "        next_state = torch.tensor(next_state, dtype=torch.float).unsqueeze(0)\n",
        "        memory.push(Experience(state, action, next_state, reward))\n",
        "        state = next_state\n",
        "\n",
        "        if memory.can_provide_sample(batch_size):\n",
        "            exps = memory.sample(batch_size)\n",
        "            states, actions, next_states, rewards = extract_tensors(exps)\n",
        "            current_q_values = QValues.get_current(policy_net, states, actions)\n",
        "            next_q_values = QValues.get_next(target_net, next_states)\n",
        "            target_q_values = (next_q_values * gamma) + rewards\n",
        "\n",
        "            optimizer.zero_grad()\n",
        "            loss = F.smooth_l1_loss(\n",
        "                current_q_values, target_q_values.unsqueeze(1))\n",
        "            loss.backward()\n",
        "            optimizer.step()\n",
        "\n",
        "        if episode % target_update == 0:\n",
        "            target_net.load_state_dict(policy_net.state_dict())\n",
        "\n",
        "        print(\"\\tBS_{:02d} DONE IN {} SECONDS, reward {}, action {}\".format(i+1, time.time() - timer, reward[0], action[0]))\n",
        "\n",
        "    print(\"EPISODE_{:03d} DONE IN {} SECONDS\".format(episode+1, time.time() - ep_timer))"
      ],
      "id": "d7637541",
      "execution_count": null,
      "outputs": []
    },
    {
      "cell_type": "code",
      "metadata": {
        "id": "28aee0a3"
      },
      "source": [
        "plot(rewards_history)"
      ],
      "id": "28aee0a3",
      "execution_count": null,
      "outputs": []
    },
    {
      "cell_type": "code",
      "metadata": {
        "id": "7c6aca67"
      },
      "source": [
        "env.get_reward()"
      ],
      "id": "7c6aca67",
      "execution_count": null,
      "outputs": []
    },
    {
      "cell_type": "code",
      "metadata": {
        "id": "rRujSA5PcXxX"
      },
      "source": [
        "class Critic(nn.Module):\n",
        "    def __init__(self, input_size, output_size):\n",
        "        super(Critic, self).__init__()\n",
        "        self.linear1 = nn.Linear(input_size, 32)\n",
        "        self.linear2 = nn.Linear(32, 32)\n",
        "        self.linear3 = nn.Linear(32, output_size)\n",
        "\n",
        "    def forward(self, state, action):\n",
        "        x = torch.cat([state, action], 1)\n",
        "        x = F.relu(self.linear1(x))\n",
        "        x = F.relu(self.linear2(x))\n",
        "        x = self.linear3(x)\n",
        "\n",
        "        return x\n",
        "\n",
        "class Actor(nn.Module):\n",
        "    def __init__(self, input_size, output_size):\n",
        "        super(Actor, self).__init__()\n",
        "        self.linear1 = nn.Linear(input_size, 32)\n",
        "        self.linear2 = nn.Linear(32, 32)\n",
        "        self.linear3 = nn.Linear(32, output_size)\n",
        "        \n",
        "    def forward(self, state):\n",
        "        x = F.relu(self.linear1(state))\n",
        "        x = F.relu(self.linear2(x))\n",
        "        x = torch.tanh(self.linear3(x))\n",
        "\n",
        "        return x"
      ],
      "id": "rRujSA5PcXxX",
      "execution_count": null,
      "outputs": []
    },
    {
      "cell_type": "code",
      "metadata": {
        "id": "CwcrX8E0cXxY"
      },
      "source": [
        "# Taken from https://github.com/vitchyr/rlkit/blob/master/rlkit/exploration_strategies/ou_strategy.py\n",
        "\n",
        "# class OUNoise(object):\n",
        "#     def __init__(self, action_space, mu=0.0, theta=0.15, max_sigma=0.3, min_sigma=0.3, decay_period=100000):\n",
        "#         self.mu           = mu\n",
        "#         self.theta        = theta\n",
        "#         self.sigma        = max_sigma\n",
        "#         self.max_sigma    = max_sigma\n",
        "#         self.min_sigma    = min_sigma\n",
        "#         self.decay_period = decay_period\n",
        "#         self.action_dim   = action_space.shape[0]\n",
        "#         self.low          = action_space.low\n",
        "#         self.high         = action_space.high\n",
        "#         self.reset()\n",
        "        \n",
        "#     def reset(self):\n",
        "#         self.state = np.ones(self.action_dim) * self.mu\n",
        "        \n",
        "#     def evolve_state(self):\n",
        "#         x  = self.state\n",
        "#         dx = self.theta * (self.mu - x) + self.sigma * np.random.randn(self.action_dim)\n",
        "#         self.state = x + dx\n",
        "#         return self.state\n",
        "    \n",
        "#     def get_action(self, action, t=0): \n",
        "#         ou_state = self.evolve_state()\n",
        "#         self.sigma = self.max_sigma - (self.max_sigma - self.min_sigma) * min(1.0, t / self.decay_period)\n",
        "#         return np.clip(action + ou_state, self.low, self.high)\n",
        "\n",
        "# THIS IS USED FOR CONTINUOUS ACTION SPACE AS NOISE FOR EXPLORATION VS EXPLOITATION"
      ],
      "id": "CwcrX8E0cXxY",
      "execution_count": null,
      "outputs": []
    },
    {
      "cell_type": "code",
      "metadata": {
        "id": "ZR8X5-lLcXxY",
        "colab": {
          "base_uri": "https://localhost:8080/"
        },
        "outputId": "be7da46f-9385-4599-b911-03edefbdd900"
      },
      "source": [
        "batch_size = 256\n",
        "\n",
        "env2 = Environment(bs_loc, bs_power, bs_blackout,10, 0, 11, grid_width, grid_height, 4)\n",
        "strategy2 = EpsilonGreedyStrategy(eps_start, eps_end, eps_decay)\n",
        "agent2 = Agent(strategy2, env.get_output_dim())\n",
        "memory2 = ReplayMemory(memory_size)\n",
        "\n",
        "actor = Actor(env2.get_input_dim(), env2.get_output_dim())\n",
        "actor_target = Actor(env2.get_input_dim(), env2.get_output_dim())\n",
        "critic = Critic(env2.get_input_dim() + env2.get_output_dim(), env2.get_output_dim())\n",
        "critic_target = Critic(env2.get_input_dim() + env2.get_output_dim(), env2.get_output_dim())\n",
        "\n",
        "for target_param, param in zip(actor_target.parameters(), actor.parameters()):\n",
        "    target_param.data.copy_(param.data)\n",
        "for target_param, param in zip(critic_target.parameters(), critic.parameters()):\n",
        "    target_param.data.copy_(param.data)\n",
        "\n",
        "\n",
        "critic_criterion  = nn.MSELoss()\n",
        "actor_optimizer  = optim.Adam(actor.parameters(), lr=1e-4)\n",
        "critic_optimizer = optim.Adam(critic.parameters(), lr=1e-3)\n",
        "\n",
        "tau=1e-2"
      ],
      "id": "ZR8X5-lLcXxY",
      "execution_count": null,
      "outputs": [
        {
          "output_type": "stream",
          "name": "stderr",
          "text": [
            "/usr/local/lib/python3.7/dist-packages/ipykernel_launcher.py:45: RuntimeWarning: divide by zero encountered in log10\n"
          ]
        }
      ]
    },
    {
      "cell_type": "code",
      "metadata": {
        "id": "CipmunBtcXxY",
        "colab": {
          "base_uri": "https://localhost:8080/",
          "height": 1000
        },
        "outputId": "eb390e47-d661-4cd7-c9c2-39cf56035b1a"
      },
      "source": [
        "rewards_history2 = []\n",
        "for episode in range(num_episodes):\n",
        "    print(\"\\n\\nEPISODE_{:03d}:\".format(episode+1))\n",
        "    \n",
        "    env2.apply_blackouts(episode+1)\n",
        "    \n",
        "    for i in range(env2.n_bs):\n",
        "        timer = time.time()\n",
        "        state = torch.tensor(env2.get_state(i), dtype=torch.float).unsqueeze(0)\n",
        "\n",
        "        action = agent2.select_action(state, actor) \n",
        "        _, action, next_state, reward = env2.make_action(i, action)\n",
        "        \n",
        "        rewards_history2.append(reward) #\n",
        "\n",
        "        reward = torch.tensor([reward], dtype=torch.float)\n",
        "        next_state = torch.tensor(next_state, dtype=torch.float).unsqueeze(0)\n",
        "        memory2.push(Experience(state, action, next_state, reward))\n",
        "        state = next_state\n",
        "\n",
        "        if memory2.can_provide_sample(batch_size):\n",
        "            exps = memory2.sample(batch_size)\n",
        "            states, actions, next_states, rewards = extract_tensors(exps)\n",
        "\n",
        "            actions_onehot = actions.numpy()\n",
        "            actions_onehot = (np.arange(env2.get_output_dim()) == actions_onehot[:,None]).astype(np.float32)\n",
        "            actions_onehot = torch.from_numpy(actions_onehot)\n",
        "            \n",
        "            Qvals = critic.forward(states, actions_onehot)\n",
        "            next_actions = actor_target.forward(next_states)\n",
        "            next_Q = critic_target.forward(next_states, next_actions.detach())\n",
        "            Qprime = rewards.unsqueeze(1) + gamma * next_Q\n",
        "            critic_loss = critic_criterion(Qvals, Qprime)\n",
        "\n",
        "            # Actor loss\n",
        "            policy_loss = -critic.forward(states, actor.forward(states)).mean()\n",
        "            \n",
        "            # update networks\n",
        "            actor_optimizer.zero_grad()\n",
        "            policy_loss.backward()\n",
        "            actor_optimizer.step()\n",
        "\n",
        "            critic_optimizer.zero_grad()\n",
        "            critic_loss.backward() \n",
        "            critic_optimizer.step()\n",
        "\n",
        "            for target_param, param in zip(actor_target.parameters(), actor.parameters()):\n",
        "                target_param.data.copy_(param.data * tau + target_param.data * (1.0 - tau))\n",
        "        \n",
        "            for target_param, param in zip(critic_target.parameters(), critic.parameters()):\n",
        "                target_param.data.copy_(param.data * tau + target_param.data * (1.0 - tau))\n",
        "\n",
        "        print(\"\\tBS_{:02d} DONE IN {} SECONDS, reward {}, action {}\".format(i+1, time.time() - timer, reward[0], action[0]))"
      ],
      "id": "CipmunBtcXxY",
      "execution_count": null,
      "outputs": [
        {
          "output_type": "stream",
          "name": "stdout",
          "text": [
            "\n",
            "\n",
            "EPISODE_001:\n",
            "\tBS_01 DONE IN 4.791773796081543 SECONDS, reward -11.665447235107422, action 2\n",
            "\tBS_02 DONE IN 4.851381540298462 SECONDS, reward -11.79367446899414, action 5\n",
            "\tBS_03 DONE IN 4.80250096321106 SECONDS, reward -12.019174575805664, action 5\n",
            "\tBS_04 DONE IN 4.644041538238525 SECONDS, reward -34.238155364990234, action 2\n",
            "\n",
            "\n",
            "EPISODE_002:\n",
            "\tBS_01 DONE IN 4.6948606967926025 SECONDS, reward -35.1815071105957, action 6\n",
            "\tBS_02 DONE IN 4.789889574050903 SECONDS, reward -34.076622009277344, action 2\n",
            "\tBS_03 DONE IN 4.754954099655151 SECONDS, reward -36.58517837524414, action 2\n",
            "\tBS_04 DONE IN 4.872875928878784 SECONDS, reward -12.713014602661133, action 6\n",
            "\n",
            "\n",
            "EPISODE_003:\n",
            "\tBS_01 DONE IN 4.936152219772339 SECONDS, reward -11.874754905700684, action 1\n",
            "\tBS_02 DONE IN 4.784362077713013 SECONDS, reward -12.49435806274414, action 7\n",
            "\tBS_03 DONE IN 4.714529752731323 SECONDS, reward -12.345137596130371, action 7\n",
            "\tBS_04 DONE IN 4.835716009140015 SECONDS, reward -7.875134468078613, action 9\n",
            "\n",
            "\n",
            "EPISODE_004:\n",
            "\tBS_01 DONE IN 4.894629955291748 SECONDS, reward -8.152254104614258, action 5\n",
            "\tBS_02 DONE IN 4.790961980819702 SECONDS, reward -8.241007804870605, action 8\n",
            "\tBS_03 DONE IN 4.7270941734313965 SECONDS, reward -8.160988807678223, action 6\n",
            "\tBS_04 DONE IN 4.6951024532318115 SECONDS, reward -7.2291765213012695, action 10\n",
            "\n",
            "\n",
            "EPISODE_005:\n",
            "\tBS_01 DONE IN 4.879061937332153 SECONDS, reward -7.443698883056641, action 10\n",
            "\tBS_02 DONE IN 4.61290717124939 SECONDS, reward -8.233227729797363, action 5\n",
            "\tBS_03 DONE IN 4.7894792556762695 SECONDS, reward -8.52131175994873, action 10\n",
            "\tBS_04 DONE IN 4.888593912124634 SECONDS, reward -9.664812088012695, action 8\n",
            "\n",
            "\n",
            "EPISODE_006:\n",
            "\tBS_01 DONE IN 4.612658739089966 SECONDS, reward -8.941972732543945, action 0\n",
            "\tBS_02 DONE IN 4.550563097000122 SECONDS, reward -9.229308128356934, action 9\n",
            "\tBS_03 DONE IN 4.5971925258636475 SECONDS, reward -8.543846130371094, action 1\n",
            "\tBS_04 DONE IN 4.529715299606323 SECONDS, reward -17.459218978881836, action 1\n",
            "\n",
            "\n",
            "EPISODE_007:\n",
            "\tBS_01 DONE IN 4.806288003921509 SECONDS, reward -19.008392333984375, action 10\n",
            "\tBS_02 DONE IN 4.843562364578247 SECONDS, reward -27.609312057495117, action 1\n",
            "\tBS_03 DONE IN 4.947861909866333 SECONDS, reward -27.820575714111328, action 6\n",
            "\tBS_04 DONE IN 4.844933748245239 SECONDS, reward -14.721479415893555, action 5\n",
            "\n",
            "\n",
            "EPISODE_008:\n",
            "\tBS_01 DONE IN 4.937446594238281 SECONDS, reward -14.474665641784668, action 6\n",
            "\tBS_02 DONE IN 4.829691410064697 SECONDS, reward -15.489497184753418, action 7\n",
            "\tBS_03 DONE IN 4.881671190261841 SECONDS, reward -15.489497184753418, action 6\n",
            "\tBS_04 DONE IN 4.874863624572754 SECONDS, reward -26.058671951293945, action 2\n",
            "\n",
            "\n",
            "EPISODE_009:\n",
            "\tBS_01 DONE IN 4.859428405761719 SECONDS, reward -25.693256378173828, action 4\n",
            "\tBS_02 DONE IN 4.937553882598877 SECONDS, reward -19.685962677001953, action 9\n",
            "\tBS_03 DONE IN 4.51939582824707 SECONDS, reward -18.707834243774414, action 0\n",
            "\tBS_04 DONE IN 4.432133913040161 SECONDS, reward -7.658785343170166, action 9\n",
            "\n",
            "\n",
            "EPISODE_010:\n",
            "\tBS_01 DONE IN 4.530755519866943 SECONDS, reward -8.070145606994629, action 9\n",
            "\tBS_02 DONE IN 4.5287511348724365 SECONDS, reward -7.535010814666748, action 5\n",
            "\tBS_03 DONE IN 4.96492862701416 SECONDS, reward -8.73229694366455, action 2\n",
            "\tBS_04 DONE IN 4.825111627578735 SECONDS, reward -7.767622947692871, action 10\n",
            "\n",
            "\n",
            "EPISODE_011:\n",
            "\tBS_01 DONE IN 4.751635789871216 SECONDS, reward -7.2698283195495605, action 4\n",
            "\tBS_02 DONE IN 4.686010360717773 SECONDS, reward -7.577274799346924, action 9\n",
            "\tBS_03 DONE IN 4.8109893798828125 SECONDS, reward -7.084708213806152, action 1\n",
            "\tBS_04 DONE IN 4.417692184448242 SECONDS, reward -18.038129806518555, action 0\n",
            "\n",
            "\n",
            "EPISODE_012:\n",
            "\tBS_01 DONE IN 4.596811771392822 SECONDS, reward -18.109905242919922, action 7\n",
            "\tBS_02 DONE IN 4.615911960601807 SECONDS, reward -18.109905242919922, action 9\n",
            "\tBS_03 DONE IN 4.751971960067749 SECONDS, reward -18.109905242919922, action 1\n",
            "\tBS_04 DONE IN 5.514265537261963 SECONDS, reward -8.392112731933594, action 9\n",
            "\n",
            "\n",
            "EPISODE_013:\n",
            "\tBS_01 DONE IN 4.897320747375488 SECONDS, reward -8.750251770019531, action 10\n",
            "\tBS_02 DONE IN 4.676495790481567 SECONDS, reward -7.585492134094238, action 1\n",
            "\tBS_03 DONE IN 4.831183433532715 SECONDS, reward -8.108238220214844, action 8\n",
            "\tBS_04 DONE IN 4.77164101600647 SECONDS, reward -21.088987350463867, action 2\n",
            "\n",
            "\n",
            "EPISODE_014:\n",
            "\tBS_01 DONE IN 4.84222149848938 SECONDS, reward -21.605695724487305, action 1\n",
            "\tBS_02 DONE IN 4.826200008392334 SECONDS, reward -20.652833938598633, action 5\n",
            "\tBS_03 DONE IN 4.953898191452026 SECONDS, reward -34.30892562866211, action 2\n",
            "\tBS_04 DONE IN 4.73550820350647 SECONDS, reward -10.359186172485352, action 7\n",
            "\n",
            "\n",
            "EPISODE_015:\n"
          ]
        },
        {
          "output_type": "error",
          "ename": "KeyboardInterrupt",
          "evalue": "ignored",
          "traceback": [
            "\u001b[0;31m---------------------------------------------------------------------------\u001b[0m",
            "\u001b[0;31mKeyboardInterrupt\u001b[0m                         Traceback (most recent call last)",
            "\u001b[0;32m<ipython-input-28-08ff094600f8>\u001b[0m in \u001b[0;36m<module>\u001b[0;34m()\u001b[0m\n\u001b[1;32m     10\u001b[0m \u001b[0;34m\u001b[0m\u001b[0m\n\u001b[1;32m     11\u001b[0m         \u001b[0maction\u001b[0m \u001b[0;34m=\u001b[0m \u001b[0magent2\u001b[0m\u001b[0;34m.\u001b[0m\u001b[0mselect_action\u001b[0m\u001b[0;34m(\u001b[0m\u001b[0mstate\u001b[0m\u001b[0;34m,\u001b[0m \u001b[0mactor\u001b[0m\u001b[0;34m)\u001b[0m\u001b[0;34m\u001b[0m\u001b[0;34m\u001b[0m\u001b[0m\n\u001b[0;32m---> 12\u001b[0;31m         \u001b[0m_\u001b[0m\u001b[0;34m,\u001b[0m \u001b[0maction\u001b[0m\u001b[0;34m,\u001b[0m \u001b[0mnext_state\u001b[0m\u001b[0;34m,\u001b[0m \u001b[0mreward\u001b[0m \u001b[0;34m=\u001b[0m \u001b[0menv2\u001b[0m\u001b[0;34m.\u001b[0m\u001b[0mmake_action\u001b[0m\u001b[0;34m(\u001b[0m\u001b[0mi\u001b[0m\u001b[0;34m,\u001b[0m \u001b[0maction\u001b[0m\u001b[0;34m)\u001b[0m\u001b[0;34m\u001b[0m\u001b[0;34m\u001b[0m\u001b[0m\n\u001b[0m\u001b[1;32m     13\u001b[0m \u001b[0;34m\u001b[0m\u001b[0m\n\u001b[1;32m     14\u001b[0m         \u001b[0mrewards_history2\u001b[0m\u001b[0;34m.\u001b[0m\u001b[0mappend\u001b[0m\u001b[0;34m(\u001b[0m\u001b[0mreward\u001b[0m\u001b[0;34m)\u001b[0m \u001b[0;31m#\u001b[0m\u001b[0;34m\u001b[0m\u001b[0;34m\u001b[0m\u001b[0m\n",
            "\u001b[0;32m<ipython-input-5-9d324aca4b82>\u001b[0m in \u001b[0;36mmake_action\u001b[0;34m(self, bs_index, action)\u001b[0m\n\u001b[1;32m     39\u001b[0m         \u001b[0;31m# self.bit_rate = self.bit_rate_from_grid()\u001b[0m\u001b[0;34m\u001b[0m\u001b[0;34m\u001b[0m\u001b[0;34m\u001b[0m\u001b[0m\n\u001b[1;32m     40\u001b[0m         \u001b[0mnext_state\u001b[0m \u001b[0;34m=\u001b[0m \u001b[0mself\u001b[0m\u001b[0;34m.\u001b[0m\u001b[0mget_state\u001b[0m\u001b[0;34m(\u001b[0m\u001b[0mbs_index\u001b[0m\u001b[0;34m)\u001b[0m\u001b[0;34m\u001b[0m\u001b[0;34m\u001b[0m\u001b[0m\n\u001b[0;32m---> 41\u001b[0;31m         \u001b[0mreward\u001b[0m \u001b[0;34m=\u001b[0m \u001b[0mself\u001b[0m\u001b[0;34m.\u001b[0m\u001b[0mget_reward\u001b[0m\u001b[0;34m(\u001b[0m\u001b[0;34m)\u001b[0m\u001b[0;34m\u001b[0m\u001b[0;34m\u001b[0m\u001b[0m\n\u001b[0m\u001b[1;32m     42\u001b[0m         \u001b[0;32mreturn\u001b[0m \u001b[0mstate\u001b[0m\u001b[0;34m,\u001b[0m \u001b[0maction\u001b[0m\u001b[0;34m,\u001b[0m \u001b[0mnext_state\u001b[0m\u001b[0;34m,\u001b[0m \u001b[0mreward\u001b[0m\u001b[0;34m\u001b[0m\u001b[0;34m\u001b[0m\u001b[0m\n\u001b[1;32m     43\u001b[0m \u001b[0;34m\u001b[0m\u001b[0m\n",
            "\u001b[0;32m<ipython-input-5-9d324aca4b82>\u001b[0m in \u001b[0;36mget_reward\u001b[0;34m(self)\u001b[0m\n\u001b[1;32m     83\u001b[0m                 \u001b[0mpoints\u001b[0m \u001b[0;34m=\u001b[0m \u001b[0mnp\u001b[0m\u001b[0;34m.\u001b[0m\u001b[0mmgrid\u001b[0m\u001b[0;34m[\u001b[0m\u001b[0mi\u001b[0m\u001b[0;34m:\u001b[0m\u001b[0mmin\u001b[0m\u001b[0;34m(\u001b[0m\u001b[0mi\u001b[0m\u001b[0;34m+\u001b[0m\u001b[0;36m1000\u001b[0m\u001b[0;34m,\u001b[0m \u001b[0mgrid_width\u001b[0m\u001b[0;34m)\u001b[0m\u001b[0;34m,\u001b[0m \u001b[0mj\u001b[0m\u001b[0;34m:\u001b[0m\u001b[0mmin\u001b[0m\u001b[0;34m(\u001b[0m\u001b[0mj\u001b[0m\u001b[0;34m+\u001b[0m\u001b[0;36m1000\u001b[0m\u001b[0;34m,\u001b[0m \u001b[0mgrid_height\u001b[0m\u001b[0;34m)\u001b[0m\u001b[0;34m]\u001b[0m\u001b[0;34m\u001b[0m\u001b[0;34m\u001b[0m\u001b[0m\n\u001b[1;32m     84\u001b[0m                 \u001b[0mpoints\u001b[0m \u001b[0;34m=\u001b[0m \u001b[0mnp\u001b[0m\u001b[0;34m.\u001b[0m\u001b[0mstack\u001b[0m\u001b[0;34m(\u001b[0m\u001b[0mpoints\u001b[0m\u001b[0;34m,\u001b[0m \u001b[0maxis\u001b[0m\u001b[0;34m=\u001b[0m\u001b[0;34m-\u001b[0m\u001b[0;36m1\u001b[0m\u001b[0;34m)\u001b[0m\u001b[0;34m\u001b[0m\u001b[0;34m\u001b[0m\u001b[0m\n\u001b[0;32m---> 85\u001b[0;31m                 \u001b[0mpower_grid\u001b[0m \u001b[0;34m=\u001b[0m \u001b[0mself\u001b[0m\u001b[0;34m.\u001b[0m\u001b[0mpower_grid\u001b[0m\u001b[0;34m(\u001b[0m\u001b[0mself\u001b[0m\u001b[0;34m.\u001b[0m\u001b[0mbs_loc\u001b[0m\u001b[0;34m,\u001b[0m \u001b[0mself\u001b[0m\u001b[0;34m.\u001b[0m\u001b[0mbs_power\u001b[0m\u001b[0;34m,\u001b[0m \u001b[0mpoints\u001b[0m\u001b[0;34m)\u001b[0m\u001b[0;34m\u001b[0m\u001b[0;34m\u001b[0m\u001b[0m\n\u001b[0m\u001b[1;32m     86\u001b[0m                 \u001b[0mbit_rate\u001b[0m \u001b[0;34m=\u001b[0m \u001b[0mself\u001b[0m\u001b[0;34m.\u001b[0m\u001b[0mbit_rate_from_grid\u001b[0m\u001b[0;34m(\u001b[0m\u001b[0mpower_grid\u001b[0m\u001b[0;34m)\u001b[0m\u001b[0;34m\u001b[0m\u001b[0;34m\u001b[0m\u001b[0m\n\u001b[1;32m     87\u001b[0m                 \u001b[0mpercentage\u001b[0m\u001b[0;34m,\u001b[0m \u001b[0mmin_speed_cost\u001b[0m \u001b[0;34m=\u001b[0m \u001b[0mself\u001b[0m\u001b[0;34m.\u001b[0m\u001b[0mbit_rate_cost_function\u001b[0m\u001b[0;34m(\u001b[0m\u001b[0mbit_rate\u001b[0m\u001b[0;34m)\u001b[0m\u001b[0;34m\u001b[0m\u001b[0;34m\u001b[0m\u001b[0m\n",
            "\u001b[0;32m<ipython-input-5-9d324aca4b82>\u001b[0m in \u001b[0;36mpower_grid\u001b[0;34m(self, bs_loc, bs_power, points)\u001b[0m\n\u001b[1;32m     55\u001b[0m         \u001b[0mpowers\u001b[0m \u001b[0;34m=\u001b[0m \u001b[0;34m[\u001b[0m\u001b[0;34m]\u001b[0m\u001b[0;34m\u001b[0m\u001b[0;34m\u001b[0m\u001b[0m\n\u001b[1;32m     56\u001b[0m         \u001b[0;32mfor\u001b[0m \u001b[0mloc\u001b[0m\u001b[0;34m,\u001b[0m \u001b[0mpower\u001b[0m \u001b[0;32min\u001b[0m \u001b[0mzip\u001b[0m\u001b[0;34m(\u001b[0m\u001b[0mbs_loc\u001b[0m\u001b[0;34m,\u001b[0m \u001b[0mbs_power\u001b[0m\u001b[0;34m)\u001b[0m\u001b[0;34m:\u001b[0m\u001b[0;34m\u001b[0m\u001b[0;34m\u001b[0m\u001b[0m\n\u001b[0;32m---> 57\u001b[0;31m             \u001b[0mdistance\u001b[0m \u001b[0;34m=\u001b[0m \u001b[0mnp\u001b[0m\u001b[0;34m.\u001b[0m\u001b[0mlinalg\u001b[0m\u001b[0;34m.\u001b[0m\u001b[0mnorm\u001b[0m\u001b[0;34m(\u001b[0m\u001b[0mloc\u001b[0m \u001b[0;34m-\u001b[0m \u001b[0mpoints\u001b[0m\u001b[0;34m+\u001b[0m\u001b[0mepsilon\u001b[0m\u001b[0;34m,\u001b[0m \u001b[0maxis\u001b[0m\u001b[0;34m=\u001b[0m\u001b[0;34m-\u001b[0m\u001b[0;36m1\u001b[0m\u001b[0;34m)\u001b[0m\u001b[0;34m\u001b[0m\u001b[0;34m\u001b[0m\u001b[0m\n\u001b[0m\u001b[1;32m     58\u001b[0m             \u001b[0mpowers\u001b[0m\u001b[0;34m.\u001b[0m\u001b[0mappend\u001b[0m\u001b[0;34m(\u001b[0m\u001b[0mpower\u001b[0m \u001b[0;34m-\u001b[0m \u001b[0mself\u001b[0m\u001b[0;34m.\u001b[0m\u001b[0mpath_loss\u001b[0m\u001b[0;34m(\u001b[0m\u001b[0mdistance\u001b[0m\u001b[0;34m)\u001b[0m\u001b[0;34m)\u001b[0m\u001b[0;34m\u001b[0m\u001b[0;34m\u001b[0m\u001b[0m\n\u001b[1;32m     59\u001b[0m         \u001b[0;32mreturn\u001b[0m \u001b[0mnp\u001b[0m\u001b[0;34m.\u001b[0m\u001b[0mstack\u001b[0m\u001b[0;34m(\u001b[0m\u001b[0mpowers\u001b[0m\u001b[0;34m,\u001b[0m \u001b[0maxis\u001b[0m\u001b[0;34m=\u001b[0m\u001b[0;34m-\u001b[0m\u001b[0;36m1\u001b[0m\u001b[0;34m)\u001b[0m\u001b[0;34m\u001b[0m\u001b[0;34m\u001b[0m\u001b[0m\n",
            "\u001b[0;31mKeyboardInterrupt\u001b[0m: "
          ]
        }
      ]
    },
    {
      "cell_type": "code",
      "metadata": {
        "id": "09ceeef2"
      },
      "source": [
        "# plt.contourf(env.points[:,:,0], env.points[:,:,1], env.bit_rate, 100, cmap = plt.cm.jet)"
      ],
      "id": "09ceeef2",
      "execution_count": null,
      "outputs": []
    },
    {
      "cell_type": "code",
      "metadata": {
        "id": "623f5b39",
        "scrolled": true
      },
      "source": [
        "# print(env.bs_power)"
      ],
      "id": "623f5b39",
      "execution_count": null,
      "outputs": []
    },
    {
      "cell_type": "code",
      "metadata": {
        "id": "50535460"
      },
      "source": [
        "np.linspace(1000, 5000, 5)"
      ],
      "id": "50535460",
      "execution_count": null,
      "outputs": []
    },
    {
      "cell_type": "code",
      "metadata": {
        "id": "09797a75"
      },
      "source": [
        ""
      ],
      "id": "09797a75",
      "execution_count": null,
      "outputs": []
    }
  ]
}